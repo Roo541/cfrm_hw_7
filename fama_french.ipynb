{
 "cells": [
  {
   "cell_type": "code",
   "execution_count": 1,
   "metadata": {},
   "outputs": [],
   "source": [
    "import numpy as np\n",
    "import pandas as pd"
   ]
  },
  {
   "cell_type": "code",
   "execution_count": 2,
   "metadata": {},
   "outputs": [
    {
     "data": {
      "text/html": [
       "<div>\n",
       "<style scoped>\n",
       "    .dataframe tbody tr th:only-of-type {\n",
       "        vertical-align: middle;\n",
       "    }\n",
       "\n",
       "    .dataframe tbody tr th {\n",
       "        vertical-align: top;\n",
       "    }\n",
       "\n",
       "    .dataframe thead th {\n",
       "        text-align: right;\n",
       "    }\n",
       "</style>\n",
       "<table border=\"1\" class=\"dataframe\">\n",
       "  <thead>\n",
       "    <tr style=\"text-align: right;\">\n",
       "      <th></th>\n",
       "      <th>date</th>\n",
       "      <th>gm</th>\n",
       "      <th>adbe</th>\n",
       "      <th>ora</th>\n",
       "      <th>flo</th>\n",
       "      <th>mkt_rf</th>\n",
       "      <th>smb</th>\n",
       "      <th>hml</th>\n",
       "      <th>rf</th>\n",
       "    </tr>\n",
       "  </thead>\n",
       "  <tbody>\n",
       "    <tr>\n",
       "      <th>0</th>\n",
       "      <td>2012-10-01</td>\n",
       "      <td>0.120879</td>\n",
       "      <td>0.049014</td>\n",
       "      <td>0.014934</td>\n",
       "      <td>-0.024281</td>\n",
       "      <td>-0.0176</td>\n",
       "      <td>-0.0116</td>\n",
       "      <td>0.0359</td>\n",
       "      <td>0.0001</td>\n",
       "    </tr>\n",
       "    <tr>\n",
       "      <th>1</th>\n",
       "      <td>2012-11-01</td>\n",
       "      <td>0.014902</td>\n",
       "      <td>0.017044</td>\n",
       "      <td>-0.032055</td>\n",
       "      <td>0.195531</td>\n",
       "      <td>0.0078</td>\n",
       "      <td>0.0064</td>\n",
       "      <td>-0.0084</td>\n",
       "      <td>0.0001</td>\n",
       "    </tr>\n",
       "    <tr>\n",
       "      <th>2</th>\n",
       "      <td>2012-12-01</td>\n",
       "      <td>0.113988</td>\n",
       "      <td>0.088703</td>\n",
       "      <td>0.046689</td>\n",
       "      <td>-0.004530</td>\n",
       "      <td>0.0118</td>\n",
       "      <td>0.0150</td>\n",
       "      <td>0.0351</td>\n",
       "      <td>0.0001</td>\n",
       "    </tr>\n",
       "    <tr>\n",
       "      <th>3</th>\n",
       "      <td>2013-01-01</td>\n",
       "      <td>-0.025668</td>\n",
       "      <td>0.003981</td>\n",
       "      <td>0.102697</td>\n",
       "      <td>0.155135</td>\n",
       "      <td>0.0557</td>\n",
       "      <td>0.0033</td>\n",
       "      <td>0.0096</td>\n",
       "      <td>0.0000</td>\n",
       "    </tr>\n",
       "    <tr>\n",
       "      <th>4</th>\n",
       "      <td>2013-02-01</td>\n",
       "      <td>-0.033464</td>\n",
       "      <td>0.039122</td>\n",
       "      <td>-0.038570</td>\n",
       "      <td>0.048363</td>\n",
       "      <td>0.0129</td>\n",
       "      <td>-0.0028</td>\n",
       "      <td>0.0011</td>\n",
       "      <td>0.0000</td>\n",
       "    </tr>\n",
       "  </tbody>\n",
       "</table>\n",
       "</div>"
      ],
      "text/plain": [
       "         date        gm      adbe       ora       flo  mkt_rf     smb     hml  \\\n",
       "0  2012-10-01  0.120879  0.049014  0.014934 -0.024281 -0.0176 -0.0116  0.0359   \n",
       "1  2012-11-01  0.014902  0.017044 -0.032055  0.195531  0.0078  0.0064 -0.0084   \n",
       "2  2012-12-01  0.113988  0.088703  0.046689 -0.004530  0.0118  0.0150  0.0351   \n",
       "3  2013-01-01 -0.025668  0.003981  0.102697  0.155135  0.0557  0.0033  0.0096   \n",
       "4  2013-02-01 -0.033464  0.039122 -0.038570  0.048363  0.0129 -0.0028  0.0011   \n",
       "\n",
       "       rf  \n",
       "0  0.0001  \n",
       "1  0.0001  \n",
       "2  0.0001  \n",
       "3  0.0000  \n",
       "4  0.0000  "
      ]
     },
     "execution_count": 2,
     "metadata": {},
     "output_type": "execute_result"
    }
   ],
   "source": [
    "df = pd.read_csv('fama_french.csv')\n",
    "df.head()"
   ]
  },
  {
   "cell_type": "code",
   "execution_count": 18,
   "metadata": {},
   "outputs": [],
   "source": [
    "r = []\n",
    "f_m = [1]\n",
    "f_smb = [1]\n",
    "f_hml = [1]\n",
    "for i in range(5):\n",
    "    r.append(df['gm'][i])\n",
    "    f_m.append(df['mkt_rf'][i])\n",
    "    f_smb.append(df['smb'][i])\n",
    "    f_hml.append(df['hml'][i])\n"
   ]
  },
  {
   "cell_type": "code",
   "execution_count": 26,
   "metadata": {},
   "outputs": [],
   "source": [
    "r_gm = np.array([r])\n",
    "F = np.array([f_m,f_smb,f_hml])\n"
   ]
  },
  {
   "cell_type": "code",
   "execution_count": 27,
   "metadata": {},
   "outputs": [
    {
     "data": {
      "text/plain": [
       "array([[ 1.    , -0.0176,  0.0078,  0.0118,  0.0557,  0.0129],\n",
       "       [ 1.    , -0.0116,  0.0064,  0.015 ,  0.0033, -0.0028],\n",
       "       [ 1.    ,  0.0359, -0.0084,  0.0351,  0.0096,  0.0011]])"
      ]
     },
     "execution_count": 27,
     "metadata": {},
     "output_type": "execute_result"
    }
   ],
   "source": [
    "F"
   ]
  },
  {
   "cell_type": "code",
   "execution_count": 30,
   "metadata": {},
   "outputs": [],
   "source": [
    "x1 = np.dot(np.transpose(F), F)\n",
    "x2 = np.linalg.inv(x1)"
   ]
  },
  {
   "cell_type": "code",
   "execution_count": 33,
   "metadata": {},
   "outputs": [
    {
     "ename": "ValueError",
     "evalue": "shapes (6,3) and (1,5) not aligned: 3 (dim 1) != 1 (dim 0)",
     "output_type": "error",
     "traceback": [
      "\u001b[0;31m---------------------------------------------------------------------------\u001b[0m",
      "\u001b[0;31mValueError\u001b[0m                                Traceback (most recent call last)",
      "\u001b[1;32m/Users/roofernando/Desktop/CFRM_HW_6/fama_french.ipynb Cell 7\u001b[0m in \u001b[0;36m<module>\u001b[0;34m\u001b[0m\n\u001b[1;32m      <a href='vscode-notebook-cell:/Users/roofernando/Desktop/CFRM_HW_6/fama_french.ipynb#X11sZmlsZQ%3D%3D?line=0'>1</a>\u001b[0m x3 \u001b[39m=\u001b[39m np\u001b[39m.\u001b[39mdot(x2, np\u001b[39m.\u001b[39mtranspose(F))\n\u001b[0;32m----> <a href='vscode-notebook-cell:/Users/roofernando/Desktop/CFRM_HW_6/fama_french.ipynb#X11sZmlsZQ%3D%3D?line=1'>2</a>\u001b[0m x4 \u001b[39m=\u001b[39m np\u001b[39m.\u001b[39;49mdot(x3,r_gm)\n",
      "File \u001b[0;32m<__array_function__ internals>:180\u001b[0m, in \u001b[0;36mdot\u001b[0;34m(*args, **kwargs)\u001b[0m\n",
      "\u001b[0;31mValueError\u001b[0m: shapes (6,3) and (1,5) not aligned: 3 (dim 1) != 1 (dim 0)"
     ]
    }
   ],
   "source": [
    "x3 = np.dot(x2, np.transpose(F))\n",
    "x4 = np.dot(x3,r_gm)"
   ]
  },
  {
   "cell_type": "code",
   "execution_count": 34,
   "metadata": {},
   "outputs": [
    {
     "data": {
      "text/plain": [
       "array([[ 0.12087893,  0.01490208,  0.1139877 , -0.02566755, -0.03346422]])"
      ]
     },
     "execution_count": 34,
     "metadata": {},
     "output_type": "execute_result"
    }
   ],
   "source": [
    "r_gm"
   ]
  },
  {
   "cell_type": "code",
   "execution_count": 35,
   "metadata": {},
   "outputs": [
    {
     "data": {
      "text/plain": [
       "array([[  -0.58506332,   -0.72292468,    2.5678294 ],\n",
       "       [ 152.14037919,  123.81296224, -147.21614892],\n",
       "       [ 478.01522511,  531.88535247, -526.46216682],\n",
       "       [  -9.9032    ,   24.83073333,  -42.97963333],\n",
       "       [  15.4516    ,   -6.54036667,    3.30231667],\n",
       "       [   8.        ,  -42.        ,   21.        ]])"
      ]
     },
     "execution_count": 35,
     "metadata": {},
     "output_type": "execute_result"
    }
   ],
   "source": [
    "x3"
   ]
  },
  {
   "cell_type": "code",
   "execution_count": null,
   "metadata": {},
   "outputs": [],
   "source": []
  }
 ],
 "metadata": {
  "kernelspec": {
   "display_name": "Python 3.10.2 64-bit",
   "language": "python",
   "name": "python3"
  },
  "language_info": {
   "codemirror_mode": {
    "name": "ipython",
    "version": 3
   },
   "file_extension": ".py",
   "mimetype": "text/x-python",
   "name": "python",
   "nbconvert_exporter": "python",
   "pygments_lexer": "ipython3",
   "version": "3.10.2"
  },
  "orig_nbformat": 4,
  "vscode": {
   "interpreter": {
    "hash": "aee8b7b246df8f9039afb4144a1f6fd8d2ca17a180786b69acc140d282b71a49"
   }
  }
 },
 "nbformat": 4,
 "nbformat_minor": 2
}
