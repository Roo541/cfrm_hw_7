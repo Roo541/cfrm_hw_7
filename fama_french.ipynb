{
 "cells": [
  {
   "cell_type": "code",
   "execution_count": 22,
   "metadata": {},
   "outputs": [],
   "source": [
    "import numpy as np\n",
    "import pandas as pd"
   ]
  },
  {
   "cell_type": "code",
   "execution_count": 8,
   "metadata": {},
   "outputs": [
    {
     "data": {
      "text/html": [
       "<div>\n",
       "<style scoped>\n",
       "    .dataframe tbody tr th:only-of-type {\n",
       "        vertical-align: middle;\n",
       "    }\n",
       "\n",
       "    .dataframe tbody tr th {\n",
       "        vertical-align: top;\n",
       "    }\n",
       "\n",
       "    .dataframe thead th {\n",
       "        text-align: right;\n",
       "    }\n",
       "</style>\n",
       "<table border=\"1\" class=\"dataframe\">\n",
       "  <thead>\n",
       "    <tr style=\"text-align: right;\">\n",
       "      <th></th>\n",
       "      <th>date</th>\n",
       "      <th>gm</th>\n",
       "      <th>adbe</th>\n",
       "      <th>ora</th>\n",
       "      <th>flo</th>\n",
       "      <th>mkt_rf</th>\n",
       "      <th>smb</th>\n",
       "      <th>hml</th>\n",
       "      <th>rf</th>\n",
       "    </tr>\n",
       "  </thead>\n",
       "  <tbody>\n",
       "    <tr>\n",
       "      <th>0</th>\n",
       "      <td>2012-10-01</td>\n",
       "      <td>0.120879</td>\n",
       "      <td>0.049014</td>\n",
       "      <td>0.014934</td>\n",
       "      <td>-0.024281</td>\n",
       "      <td>-0.0176</td>\n",
       "      <td>-0.0116</td>\n",
       "      <td>0.0359</td>\n",
       "      <td>0.0001</td>\n",
       "    </tr>\n",
       "    <tr>\n",
       "      <th>1</th>\n",
       "      <td>2012-11-01</td>\n",
       "      <td>0.014902</td>\n",
       "      <td>0.017044</td>\n",
       "      <td>-0.032055</td>\n",
       "      <td>0.195531</td>\n",
       "      <td>0.0078</td>\n",
       "      <td>0.0064</td>\n",
       "      <td>-0.0084</td>\n",
       "      <td>0.0001</td>\n",
       "    </tr>\n",
       "    <tr>\n",
       "      <th>2</th>\n",
       "      <td>2012-12-01</td>\n",
       "      <td>0.113988</td>\n",
       "      <td>0.088703</td>\n",
       "      <td>0.046689</td>\n",
       "      <td>-0.004530</td>\n",
       "      <td>0.0118</td>\n",
       "      <td>0.0150</td>\n",
       "      <td>0.0351</td>\n",
       "      <td>0.0001</td>\n",
       "    </tr>\n",
       "    <tr>\n",
       "      <th>3</th>\n",
       "      <td>2013-01-01</td>\n",
       "      <td>-0.025668</td>\n",
       "      <td>0.003981</td>\n",
       "      <td>0.102697</td>\n",
       "      <td>0.155135</td>\n",
       "      <td>0.0557</td>\n",
       "      <td>0.0033</td>\n",
       "      <td>0.0096</td>\n",
       "      <td>0.0000</td>\n",
       "    </tr>\n",
       "    <tr>\n",
       "      <th>4</th>\n",
       "      <td>2013-02-01</td>\n",
       "      <td>-0.033464</td>\n",
       "      <td>0.039122</td>\n",
       "      <td>-0.038570</td>\n",
       "      <td>0.048363</td>\n",
       "      <td>0.0129</td>\n",
       "      <td>-0.0028</td>\n",
       "      <td>0.0011</td>\n",
       "      <td>0.0000</td>\n",
       "    </tr>\n",
       "  </tbody>\n",
       "</table>\n",
       "</div>"
      ],
      "text/plain": [
       "         date        gm      adbe       ora       flo  mkt_rf     smb     hml  \\\n",
       "0  2012-10-01  0.120879  0.049014  0.014934 -0.024281 -0.0176 -0.0116  0.0359   \n",
       "1  2012-11-01  0.014902  0.017044 -0.032055  0.195531  0.0078  0.0064 -0.0084   \n",
       "2  2012-12-01  0.113988  0.088703  0.046689 -0.004530  0.0118  0.0150  0.0351   \n",
       "3  2013-01-01 -0.025668  0.003981  0.102697  0.155135  0.0557  0.0033  0.0096   \n",
       "4  2013-02-01 -0.033464  0.039122 -0.038570  0.048363  0.0129 -0.0028  0.0011   \n",
       "\n",
       "       rf  \n",
       "0  0.0001  \n",
       "1  0.0001  \n",
       "2  0.0001  \n",
       "3  0.0000  \n",
       "4  0.0000  "
      ]
     },
     "execution_count": 8,
     "metadata": {},
     "output_type": "execute_result"
    }
   ],
   "source": [
    "df = pd.read_csv('fama_french.csv')\n",
    "df.head()"
   ]
  },
  {
   "cell_type": "code",
   "execution_count": 16,
   "metadata": {},
   "outputs": [],
   "source": [
    "r_f = df['rf'].values\n",
    "r_gm = df['gm'].values - r_f\n",
    "r_adbe = df['adbe'].values - r_f\n",
    "r_ora = df['ora'].values - r_f\n",
    "r_flo = df['flo'].values - r_f\n",
    "f_m = df['mkt_rf'].values - r_f\n",
    "f_smb = df['smb'].values - r_f\n",
    "f_hml = df['hml'].values - r_f\n",
    "\n",
    "vector_1 = [1]*len(f_m)"
   ]
  },
  {
   "cell_type": "code",
   "execution_count": 19,
   "metadata": {},
   "outputs": [],
   "source": [
    "R = np.matrix([r_gm, r_adbe, r_ora, r_flo])\n",
    "R = np.transpose(R)\n",
    "F = np.matrix([vector_1, f_m, f_smb, f_hml])\n",
    "F = np.transpose(F)"
   ]
  },
  {
   "cell_type": "code",
   "execution_count": 26,
   "metadata": {},
   "outputs": [
    {
     "name": "stdout",
     "output_type": "stream",
     "text": [
      "[[-1.06497959e-03  8.49300414e-03  1.07187588e-02  5.13442760e-03]\n",
      " [ 1.18352022e+00  1.20099540e+00  5.88364414e-01  4.79204767e-01]\n",
      " [ 7.19675225e-01 -2.50482193e-01  4.17367996e-01 -2.73426048e-01]\n",
      " [ 6.58089536e-01 -5.57412709e-01 -2.28104966e-01  2.54813640e-01]]\n"
     ]
    }
   ],
   "source": [
    "x1 = np.dot(np.transpose(F), F)\n",
    "x2 = np.linalg.inv(x1)\n",
    "x3 = np.dot(x2, np.transpose(F))\n",
    "B = np.dot(x3,R)\n",
    "print(B)"
   ]
  },
  {
   "cell_type": "code",
   "execution_count": 53,
   "metadata": {},
   "outputs": [],
   "source": [
    "sample = {'sample':['alpha', 'beta_1', 'beta_2', 'beta_3'], 'r_gm':[], 'r_adbe':[], 'r_ora':[], 'r_flo':[]}\n",
    "v = np.array(B)"
   ]
  },
  {
   "cell_type": "code",
   "execution_count": 54,
   "metadata": {},
   "outputs": [
    {
     "name": "stdout",
     "output_type": "stream",
     "text": [
      "            r_gm    r_adbe     r_ora     r_flo\n",
      "sample                                        \n",
      "alpha  -0.001065  0.008493  0.010719  0.005134\n",
      "beta_1  1.183520  1.200995  0.588364  0.479205\n",
      "beta_2  0.719675 -0.250482  0.417368 -0.273426\n",
      "beta_3  0.658090 -0.557413 -0.228105  0.254814\n"
     ]
    }
   ],
   "source": [
    "for i in range(len(v)):\n",
    "    sample['r_gm'].append(v[i][0])\n",
    "    sample['r_adbe'].append(v[i][1])\n",
    "    sample['r_ora'].append(v[i][2])\n",
    "    sample['r_flo'].append(v[i][3])\n",
    "sample = pd.DataFrame.from_dict(sample)\n",
    "sample = sample.set_index('sample')\n",
    "print(sample)"
   ]
  },
  {
   "cell_type": "code",
   "execution_count": 74,
   "metadata": {},
   "outputs": [],
   "source": [
    "E_hat = np.array(R) - np.dot(np.array(F),np.array(B))"
   ]
  },
  {
   "cell_type": "code",
   "execution_count": 150,
   "metadata": {},
   "outputs": [],
   "source": [
    "corr_matrix_e = np.zeros((4,4))\n",
    "corr_matrix_r = np.zeros((4,4))"
   ]
  },
  {
   "cell_type": "code",
   "execution_count": 90,
   "metadata": {},
   "outputs": [],
   "source": [
    "alpha = np.transpose(E_hat)\n",
    "excess = {'e_gm':alpha[0], 'e_adbe':alpha[1], 'e_ora':alpha[2], 'e_flo':alpha[3]}\n",
    "dh = pd.DataFrame.from_dict(excess)\n"
   ]
  },
  {
   "cell_type": "code",
   "execution_count": 95,
   "metadata": {},
   "outputs": [
    {
     "name": "stdout",
     "output_type": "stream",
     "text": [
      "1.0\n"
     ]
    }
   ],
   "source": [
    "print(dh['e_gm'].corr(dh['e_gm']))"
   ]
  },
  {
   "cell_type": "code",
   "execution_count": 157,
   "metadata": {},
   "outputs": [],
   "source": [
    "#excess correlation matrix\n",
    "l ='e_gm'\n",
    "i =0\n",
    "corr_matrix_e[i][0] = dh[l].corr(dh['e_gm'])\n",
    "corr_matrix_e[i][1] = dh[l].corr(dh['e_adbe'])\n",
    "corr_matrix_e[i][2] = dh[l].corr(dh['e_ora'])\n",
    "corr_matrix_e[i][3] = dh[l].corr(dh['e_flo'])\n",
    "            "
   ]
  },
  {
   "cell_type": "code",
   "execution_count": 167,
   "metadata": {},
   "outputs": [
    {
     "name": "stdout",
     "output_type": "stream",
     "text": [
      "[[ 1.          0.12806569  0.23815364  0.00887715]\n",
      " [ 0.12806569  1.         -0.14176432  0.05151016]\n",
      " [ 0.23815364 -0.14176432  1.          0.10913091]\n",
      " [ 0.00887715  0.05151016  0.10913091  1.        ]]\n",
      "[[1.         0.40860882 0.37872461 0.19889243]\n",
      " [0.40860882 1.         0.16271006 0.19446945]\n",
      " [0.37872461 0.16271006 1.         0.16870395]\n",
      " [0.19889243 0.19446945 0.16870395 1.        ]]\n"
     ]
    }
   ],
   "source": [
    "print(corr_matrix_e)\n",
    "print(corr_matrix_r)"
   ]
  },
  {
   "cell_type": "code",
   "execution_count": 166,
   "metadata": {},
   "outputs": [],
   "source": [
    "#excess correlation matrix\n",
    "l ='flo'\n",
    "i = 3\n",
    "corr_matrix_r[i][0] = df[l].corr(df['gm'])\n",
    "corr_matrix_r[i][1] = df[l].corr(df['adbe'])\n",
    "corr_matrix_r[i][2] = df[l].corr(df['ora'])\n",
    "corr_matrix_r[i][3] = df[l].corr(df['flo'])"
   ]
  },
  {
   "cell_type": "code",
   "execution_count": 169,
   "metadata": {},
   "outputs": [
    {
     "data": {
      "text/plain": [
       "array([ 0.12765282,  0.07870291,  0.02757861, -0.0333552 ])"
      ]
     },
     "execution_count": 169,
     "metadata": {},
     "output_type": "execute_result"
    }
   ],
   "source": [
    "E_hat[0]"
   ]
  },
  {
   "cell_type": "code",
   "execution_count": null,
   "metadata": {},
   "outputs": [],
   "source": []
  }
 ],
 "metadata": {
  "kernelspec": {
   "display_name": "Python 3.10.2 64-bit",
   "language": "python",
   "name": "python3"
  },
  "language_info": {
   "codemirror_mode": {
    "name": "ipython",
    "version": 3
   },
   "file_extension": ".py",
   "mimetype": "text/x-python",
   "name": "python",
   "nbconvert_exporter": "python",
   "pygments_lexer": "ipython3",
   "version": "3.10.2"
  },
  "orig_nbformat": 4,
  "vscode": {
   "interpreter": {
    "hash": "aee8b7b246df8f9039afb4144a1f6fd8d2ca17a180786b69acc140d282b71a49"
   }
  }
 },
 "nbformat": 4,
 "nbformat_minor": 2
}
