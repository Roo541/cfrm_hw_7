{
 "cells": [
  {
   "cell_type": "code",
   "execution_count": 1,
   "metadata": {},
   "outputs": [],
   "source": [
    "import numpy as np\n",
    "import pandas as pd"
   ]
  },
  {
   "cell_type": "code",
   "execution_count": 2,
   "metadata": {},
   "outputs": [
    {
     "data": {
      "text/html": [
       "<div>\n",
       "<style scoped>\n",
       "    .dataframe tbody tr th:only-of-type {\n",
       "        vertical-align: middle;\n",
       "    }\n",
       "\n",
       "    .dataframe tbody tr th {\n",
       "        vertical-align: top;\n",
       "    }\n",
       "\n",
       "    .dataframe thead th {\n",
       "        text-align: right;\n",
       "    }\n",
       "</style>\n",
       "<table border=\"1\" class=\"dataframe\">\n",
       "  <thead>\n",
       "    <tr style=\"text-align: right;\">\n",
       "      <th></th>\n",
       "      <th>date</th>\n",
       "      <th>gm</th>\n",
       "      <th>adbe</th>\n",
       "      <th>ora</th>\n",
       "      <th>flo</th>\n",
       "      <th>mkt_rf</th>\n",
       "      <th>smb</th>\n",
       "      <th>hml</th>\n",
       "      <th>rf</th>\n",
       "    </tr>\n",
       "  </thead>\n",
       "  <tbody>\n",
       "    <tr>\n",
       "      <th>0</th>\n",
       "      <td>2012-10-01</td>\n",
       "      <td>0.120879</td>\n",
       "      <td>0.049014</td>\n",
       "      <td>0.014934</td>\n",
       "      <td>-0.024281</td>\n",
       "      <td>-0.0176</td>\n",
       "      <td>-0.0116</td>\n",
       "      <td>0.0359</td>\n",
       "      <td>0.0001</td>\n",
       "    </tr>\n",
       "    <tr>\n",
       "      <th>1</th>\n",
       "      <td>2012-11-01</td>\n",
       "      <td>0.014902</td>\n",
       "      <td>0.017044</td>\n",
       "      <td>-0.032055</td>\n",
       "      <td>0.195531</td>\n",
       "      <td>0.0078</td>\n",
       "      <td>0.0064</td>\n",
       "      <td>-0.0084</td>\n",
       "      <td>0.0001</td>\n",
       "    </tr>\n",
       "    <tr>\n",
       "      <th>2</th>\n",
       "      <td>2012-12-01</td>\n",
       "      <td>0.113988</td>\n",
       "      <td>0.088703</td>\n",
       "      <td>0.046689</td>\n",
       "      <td>-0.004530</td>\n",
       "      <td>0.0118</td>\n",
       "      <td>0.0150</td>\n",
       "      <td>0.0351</td>\n",
       "      <td>0.0001</td>\n",
       "    </tr>\n",
       "    <tr>\n",
       "      <th>3</th>\n",
       "      <td>2013-01-01</td>\n",
       "      <td>-0.025668</td>\n",
       "      <td>0.003981</td>\n",
       "      <td>0.102697</td>\n",
       "      <td>0.155135</td>\n",
       "      <td>0.0557</td>\n",
       "      <td>0.0033</td>\n",
       "      <td>0.0096</td>\n",
       "      <td>0.0000</td>\n",
       "    </tr>\n",
       "    <tr>\n",
       "      <th>4</th>\n",
       "      <td>2013-02-01</td>\n",
       "      <td>-0.033464</td>\n",
       "      <td>0.039122</td>\n",
       "      <td>-0.038570</td>\n",
       "      <td>0.048363</td>\n",
       "      <td>0.0129</td>\n",
       "      <td>-0.0028</td>\n",
       "      <td>0.0011</td>\n",
       "      <td>0.0000</td>\n",
       "    </tr>\n",
       "  </tbody>\n",
       "</table>\n",
       "</div>"
      ],
      "text/plain": [
       "         date        gm      adbe       ora       flo  mkt_rf     smb     hml  \\\n",
       "0  2012-10-01  0.120879  0.049014  0.014934 -0.024281 -0.0176 -0.0116  0.0359   \n",
       "1  2012-11-01  0.014902  0.017044 -0.032055  0.195531  0.0078  0.0064 -0.0084   \n",
       "2  2012-12-01  0.113988  0.088703  0.046689 -0.004530  0.0118  0.0150  0.0351   \n",
       "3  2013-01-01 -0.025668  0.003981  0.102697  0.155135  0.0557  0.0033  0.0096   \n",
       "4  2013-02-01 -0.033464  0.039122 -0.038570  0.048363  0.0129 -0.0028  0.0011   \n",
       "\n",
       "       rf  \n",
       "0  0.0001  \n",
       "1  0.0001  \n",
       "2  0.0001  \n",
       "3  0.0000  \n",
       "4  0.0000  "
      ]
     },
     "execution_count": 2,
     "metadata": {},
     "output_type": "execute_result"
    }
   ],
   "source": [
    "df = pd.read_csv('fama_french.csv')\n",
    "df.head()"
   ]
  },
  {
   "cell_type": "code",
   "execution_count": 3,
   "metadata": {},
   "outputs": [],
   "source": [
    "r_f = df['rf'].values\n",
    "r_gm = df['gm'].values - r_f\n",
    "r_adbe = df['adbe'].values - r_f\n",
    "r_ora = df['ora'].values - r_f\n",
    "r_flo = df['flo'].values - r_f\n",
    "f_m = df['mkt_rf'].values - r_f\n",
    "f_smb = df['smb'].values - r_f\n",
    "f_hml = df['hml'].values - r_f\n",
    "\n",
    "vector_1 = [1]*len(f_m)"
   ]
  },
  {
   "cell_type": "code",
   "execution_count": 4,
   "metadata": {},
   "outputs": [],
   "source": [
    "R = np.matrix([r_gm, r_adbe, r_ora, r_flo])\n",
    "R = np.transpose(R)\n",
    "F = np.matrix([vector_1, f_m, f_smb, f_hml])\n",
    "F = np.transpose(F)"
   ]
  },
  {
   "cell_type": "code",
   "execution_count": 5,
   "metadata": {},
   "outputs": [
    {
     "name": "stdout",
     "output_type": "stream",
     "text": [
      "[[-1.06497959e-03  8.49300414e-03  1.07187588e-02  5.13442760e-03]\n",
      " [ 1.18352022e+00  1.20099540e+00  5.88364414e-01  4.79204767e-01]\n",
      " [ 7.19675225e-01 -2.50482193e-01  4.17367996e-01 -2.73426048e-01]\n",
      " [ 6.58089536e-01 -5.57412709e-01 -2.28104966e-01  2.54813640e-01]]\n"
     ]
    }
   ],
   "source": [
    "x1 = np.dot(np.transpose(F), F)\n",
    "x2 = np.linalg.inv(x1)\n",
    "x3 = np.dot(x2, np.transpose(F))\n",
    "B = np.dot(x3,R)\n",
    "print(B)"
   ]
  },
  {
   "cell_type": "code",
   "execution_count": 6,
   "metadata": {},
   "outputs": [],
   "source": [
    "sample = {'sample':['alpha', 'beta_1', 'beta_2', 'beta_3'], 'r_gm':[], 'r_adbe':[], 'r_ora':[], 'r_flo':[]}\n",
    "v = np.array(B)"
   ]
  },
  {
   "cell_type": "code",
   "execution_count": 7,
   "metadata": {},
   "outputs": [
    {
     "name": "stdout",
     "output_type": "stream",
     "text": [
      "            r_gm    r_adbe     r_ora     r_flo\n",
      "sample                                        \n",
      "alpha  -0.001065  0.008493  0.010719  0.005134\n",
      "beta_1  1.183520  1.200995  0.588364  0.479205\n",
      "beta_2  0.719675 -0.250482  0.417368 -0.273426\n",
      "beta_3  0.658090 -0.557413 -0.228105  0.254814\n"
     ]
    }
   ],
   "source": [
    "for i in range(len(v)):\n",
    "    sample['r_gm'].append(v[i][0])\n",
    "    sample['r_adbe'].append(v[i][1])\n",
    "    sample['r_ora'].append(v[i][2])\n",
    "    sample['r_flo'].append(v[i][3])\n",
    "sample = pd.DataFrame.from_dict(sample)\n",
    "sample = sample.set_index('sample')\n",
    "print(sample)"
   ]
  },
  {
   "cell_type": "code",
   "execution_count": 8,
   "metadata": {},
   "outputs": [],
   "source": [
    "E_hat = np.array(R) - np.dot(np.array(F),np.array(B))"
   ]
  },
  {
   "cell_type": "code",
   "execution_count": 9,
   "metadata": {},
   "outputs": [],
   "source": [
    "corr_matrix_e = np.zeros((4,4))\n",
    "corr_matrix_r = np.zeros((4,4))"
   ]
  },
  {
   "cell_type": "code",
   "execution_count": 10,
   "metadata": {},
   "outputs": [],
   "source": [
    "alpha = np.transpose(E_hat)\n",
    "excess = {'e_gm':alpha[0], 'e_adbe':alpha[1], 'e_ora':alpha[2], 'e_flo':alpha[3]}\n",
    "dh = pd.DataFrame.from_dict(excess)\n"
   ]
  },
  {
   "cell_type": "code",
   "execution_count": 11,
   "metadata": {},
   "outputs": [
    {
     "name": "stdout",
     "output_type": "stream",
     "text": [
      "1.0\n"
     ]
    }
   ],
   "source": [
    "print(dh['e_gm'].corr(dh['e_gm']))"
   ]
  },
  {
   "cell_type": "code",
   "execution_count": 12,
   "metadata": {},
   "outputs": [],
   "source": [
    "#excess correlation matrix\n",
    "l ='e_gm'\n",
    "i =0\n",
    "corr_matrix_e[i][0] = dh[l].corr(dh['e_gm'])\n",
    "corr_matrix_e[i][1] = dh[l].corr(dh['e_adbe'])\n",
    "corr_matrix_e[i][2] = dh[l].corr(dh['e_ora'])\n",
    "corr_matrix_e[i][3] = dh[l].corr(dh['e_flo'])\n",
    "            "
   ]
  },
  {
   "cell_type": "code",
   "execution_count": 13,
   "metadata": {},
   "outputs": [
    {
     "name": "stdout",
     "output_type": "stream",
     "text": [
      "[[1.         0.12806569 0.23815364 0.00887715]\n",
      " [0.         0.         0.         0.        ]\n",
      " [0.         0.         0.         0.        ]\n",
      " [0.         0.         0.         0.        ]]\n",
      "[[0. 0. 0. 0.]\n",
      " [0. 0. 0. 0.]\n",
      " [0. 0. 0. 0.]\n",
      " [0. 0. 0. 0.]]\n"
     ]
    }
   ],
   "source": [
    "print(corr_matrix_e)\n",
    "print(corr_matrix_r)"
   ]
  },
  {
   "cell_type": "code",
   "execution_count": 14,
   "metadata": {},
   "outputs": [],
   "source": [
    "#excess correlation matrix\n",
    "l ='flo'\n",
    "i = 3\n",
    "corr_matrix_r[i][0] = df[l].corr(df['gm'])\n",
    "corr_matrix_r[i][1] = df[l].corr(df['adbe'])\n",
    "corr_matrix_r[i][2] = df[l].corr(df['ora'])\n",
    "corr_matrix_r[i][3] = df[l].corr(df['flo'])"
   ]
  },
  {
   "cell_type": "code",
   "execution_count": 15,
   "metadata": {},
   "outputs": [
    {
     "data": {
      "text/plain": [
       "array([ 0.12765282,  0.07870291,  0.02757861, -0.0333552 ])"
      ]
     },
     "execution_count": 15,
     "metadata": {},
     "output_type": "execute_result"
    }
   ],
   "source": [
    "E_hat[0]"
   ]
  },
  {
   "cell_type": "code",
   "execution_count": 16,
   "metadata": {},
   "outputs": [
    {
     "data": {
      "text/plain": [
       "matrix([[0.00898283],\n",
       "        [0.0207307 ],\n",
       "        [0.01658256],\n",
       "        [0.00986473]])"
      ]
     },
     "execution_count": 16,
     "metadata": {},
     "output_type": "execute_result"
    }
   ],
   "source": [
    "mu_vector = []\n",
    "for i in df.keys():\n",
    "    if i in ['gm', 'adbe', 'ora', 'flo']:\n",
    "        mu_vector.append(df[i].mean())\n",
    "mu_vector = np.matrix(mu_vector)\n",
    "mu_vector = np.transpose(mu_vector)\n",
    "mu_vector"
   ]
  },
  {
   "cell_type": "code",
   "execution_count": 17,
   "metadata": {},
   "outputs": [
    {
     "name": "stderr",
     "output_type": "stream",
     "text": [
      "/var/folders/qs/08lrvdq116j2p_7gkyvmdryw0000gn/T/ipykernel_19135/2450887190.py:3: SettingWithCopyWarning: \n",
      "A value is trying to be set on a copy of a slice from a DataFrame\n",
      "\n",
      "See the caveats in the documentation: https://pandas.pydata.org/pandas-docs/stable/user_guide/indexing.html#returning-a-view-versus-a-copy\n",
      "  dcov['gm'][i] = dcov['gm'][i] - mu_vector[0]\n",
      "/var/folders/qs/08lrvdq116j2p_7gkyvmdryw0000gn/T/ipykernel_19135/2450887190.py:4: SettingWithCopyWarning: \n",
      "A value is trying to be set on a copy of a slice from a DataFrame\n",
      "\n",
      "See the caveats in the documentation: https://pandas.pydata.org/pandas-docs/stable/user_guide/indexing.html#returning-a-view-versus-a-copy\n",
      "  dcov['adbe'][i] = dcov['adbe'][i] - mu_vector[1]\n",
      "/var/folders/qs/08lrvdq116j2p_7gkyvmdryw0000gn/T/ipykernel_19135/2450887190.py:5: SettingWithCopyWarning: \n",
      "A value is trying to be set on a copy of a slice from a DataFrame\n",
      "\n",
      "See the caveats in the documentation: https://pandas.pydata.org/pandas-docs/stable/user_guide/indexing.html#returning-a-view-versus-a-copy\n",
      "  dcov['ora'][i] = dcov['ora'][i] - mu_vector[2]\n",
      "/var/folders/qs/08lrvdq116j2p_7gkyvmdryw0000gn/T/ipykernel_19135/2450887190.py:6: SettingWithCopyWarning: \n",
      "A value is trying to be set on a copy of a slice from a DataFrame\n",
      "\n",
      "See the caveats in the documentation: https://pandas.pydata.org/pandas-docs/stable/user_guide/indexing.html#returning-a-view-versus-a-copy\n",
      "  dcov['flo'][i] = dcov['flo'][i] - mu_vector[3]\n"
     ]
    }
   ],
   "source": [
    "dcov = df.copy()\n",
    "for i in range(len(dcov)):\n",
    "    dcov['gm'][i] = dcov['gm'][i] - mu_vector[0]\n",
    "    dcov['adbe'][i] = dcov['adbe'][i] - mu_vector[1]\n",
    "    dcov['ora'][i] = dcov['ora'][i] - mu_vector[2]\n",
    "    dcov['flo'][i] = dcov['flo'][i] - mu_vector[3]\n",
    "cov_matrix_r = np.zeros((4,4))\n",
    "i = 0\n",
    "for l in dcov.keys():\n",
    "    if l in ['gm', 'adbe', 'ora', 'flo']:\n",
    "        cov_matrix_r[i][0] = dcov[l].cov(dcov['gm'])\n",
    "        cov_matrix_r[i][1] = dcov[l].cov(dcov['adbe'])\n",
    "        cov_matrix_r[i][2] = dcov[l].cov(dcov['ora'])\n",
    "        cov_matrix_r[i][3] = dcov[l].cov(dcov['flo'])\n",
    "        i += 1\n",
    "\n",
    "sample = {'':['gm', 'adbe', 'ora', 'flo'], 'gm':[], 'adbe':[], 'ora':[], 'flo':[]}\n",
    "v = cov_matrix_r\n",
    "for i in range(len(v)):\n",
    "    sample['gm'].append(v[i][0])\n",
    "    sample['adbe'].append(v[i][1])\n",
    "    sample['ora'].append(v[i][2])\n",
    "    sample['flo'].append(v[i][3])\n",
    "sample = pd.DataFrame.from_dict(sample)\n",
    "sample_Sigma = sample.set_index('')"
   ]
  },
  {
   "cell_type": "code",
   "execution_count": 18,
   "metadata": {},
   "outputs": [
    {
     "name": "stdout",
     "output_type": "stream",
     "text": [
      "            gm      adbe       ora       flo\n",
      "                                            \n",
      "gm    0.007876  0.002681  0.002713  0.001195\n",
      "adbe  0.002681  0.005464  0.000971  0.000973\n",
      "ora   0.002713  0.000971  0.006517  0.000922\n",
      "flo   0.001195  0.000973  0.000922  0.004584\n"
     ]
    }
   ],
   "source": [
    "#covariance matrix\n",
    "print(sample_Sigma)"
   ]
  },
  {
   "cell_type": "code",
   "execution_count": 19,
   "metadata": {},
   "outputs": [
    {
     "name": "stdout",
     "output_type": "stream",
     "text": [
      "Covariance Matrix:\n",
      "            gm      adbe       ora       flo\n",
      "                                            \n",
      "gm    0.007876  0.002681  0.002713  0.001195\n",
      "adbe  0.002681  0.005464  0.000971  0.000973\n",
      "ora   0.002713  0.000971  0.006517  0.000922\n",
      "flo   0.001195  0.000973  0.000922  0.004584\n",
      "mu_vector:\n",
      "[[0.00898283]\n",
      " [0.0207307 ]\n",
      " [0.01658256]\n",
      " [0.00986473]]\n",
      "Eigen Values:\n",
      "[0.0117254  0.00341266 0.00420309 0.00509989]\n",
      "Eigen Vectors:\n",
      "[[ 0.71899768  0.55471646  0.37986395  0.17616857]\n",
      " [ 0.42234415 -0.69509997 -0.05303146  0.57935232]\n",
      " [ 0.49612657 -0.35359037 -0.05585857 -0.79101965]\n",
      " [ 0.24192184  0.28999919 -0.92183017  0.08719764]]\n"
     ]
    }
   ],
   "source": [
    "e_vals, e_vectors = np.linalg.eig(cov_matrix_r)\n",
    "print('Covariance Matrix:')\n",
    "print(sample_Sigma)\n",
    "print('mu_vector:')\n",
    "print(mu_vector)\n",
    "print('Eigen Values:')\n",
    "print(e_vals)\n",
    "print('Eigen Vectors:')\n",
    "print(e_vectors)"
   ]
  },
  {
   "cell_type": "code",
   "execution_count": 20,
   "metadata": {},
   "outputs": [
    {
     "data": {
      "text/plain": [
       "array([[ 0.71899768,  0.42234415,  0.49612657,  0.24192184],\n",
       "       [ 0.55471646, -0.69509997, -0.35359037,  0.28999919],\n",
       "       [ 0.37986395, -0.05303146, -0.05585857, -0.92183017],\n",
       "       [ 0.17616857,  0.57935232, -0.79101965,  0.08719764]])"
      ]
     },
     "execution_count": 20,
     "metadata": {},
     "output_type": "execute_result"
    }
   ],
   "source": [
    "e_vector_t = np.transpose(e_vectors)\n",
    "e_vector_t"
   ]
  },
  {
   "cell_type": "code",
   "execution_count": 21,
   "metadata": {},
   "outputs": [],
   "source": [
    "R_t = np.transpose(R)\n",
    "R_t = R_t - mu_vector"
   ]
  },
  {
   "cell_type": "code",
   "execution_count": 22,
   "metadata": {},
   "outputs": [],
   "source": [
    "Y = np.dot(e_vector_t,R_t)"
   ]
  },
  {
   "cell_type": "code",
   "execution_count": 23,
   "metadata": {},
   "outputs": [],
   "source": [
    "a = np.squeeze(np.asarray(Y[2]))\n",
    "b = np.squeeze(np.asarray(Y[3]))\n",
    "c = np.matrix([a[0:5],b[0:5]])\n"
   ]
  },
  {
   "cell_type": "code",
   "execution_count": 24,
   "metadata": {},
   "outputs": [
    {
     "name": "stdout",
     "output_type": "stream",
     "text": [
      "[[ 0.07263941 -0.16592652  0.0479355  -0.15099935 -0.04950779]\n",
      " [ 0.03441978  0.05356448  0.03280353 -0.07125895  0.05016119]]\n"
     ]
    }
   ],
   "source": [
    "print(c)"
   ]
  },
  {
   "cell_type": "code",
   "execution_count": 25,
   "metadata": {},
   "outputs": [],
   "source": [
    "y_3 = np.squeeze(np.asarray(Y[2]))\n",
    "y_4 = np.squeeze(np.asarray(Y[3]))\n",
    "epsilon = np.matrix([y_3,y_4])"
   ]
  },
  {
   "cell_type": "code",
   "execution_count": 26,
   "metadata": {},
   "outputs": [
    {
     "data": {
      "text/plain": [
       "matrix([[ 0.07263941, -0.16592652,  0.0479355 , -0.15099935, -0.04950779,\n",
       "         -0.15110838,  0.04409378,  0.03301879,  0.00436677, -0.00686736,\n",
       "          0.0726435 , -0.01625112, -0.1504945 ,  0.15694967,  0.03199358,\n",
       "         -0.01331848,  0.01020855, -0.05802604,  0.06107609, -0.01495627,\n",
       "          0.011693  ,  0.07506591, -0.01074469,  0.03306152, -0.03399212,\n",
       "          0.00834319,  0.04019092, -0.0356382 , -0.0578351 , -0.0401789 ,\n",
       "         -0.00299593,  0.0097236 ,  0.03134305, -0.04299309, -0.07347756,\n",
       "         -0.05251906, -0.01940127,  0.14031869,  0.06324747,  0.00205137,\n",
       "          0.15632697, -0.0479537 , -0.02973005,  0.01806134, -0.02667433,\n",
       "          0.06308399,  0.18106534, -0.02027887, -0.01334828,  0.04577522,\n",
       "         -0.2722375 ,  0.01967741,  0.04550995, -0.02179694, -0.01677575,\n",
       "          0.04977617,  0.07852279, -0.00212512,  0.02434782, -0.03954013,\n",
       "          0.01330432, -0.03926257,  0.01617234, -0.00186384, -0.06861384,\n",
       "         -0.06664293, -0.02590222,  0.16366266, -0.04522746,  0.00731397,\n",
       "         -0.00102579,  0.04113376,  0.02205659, -0.00639488,  0.02642011,\n",
       "          0.0067581 , -0.02594489, -0.06081061,  0.00591625, -0.06963858,\n",
       "          0.02205167,  0.00342318,  0.00826645, -0.00682883,  0.06345048,\n",
       "         -0.00154742, -0.00404323, -0.01912347, -0.01672954, -0.07107483,\n",
       "         -0.04043497,  0.00050075,  0.04771418, -0.02032369,  0.00129356,\n",
       "          0.00862273,  0.09317837,  0.15455247, -0.04859712,  0.06640705,\n",
       "          0.07499596, -0.03096941, -0.00782867,  0.0195571 , -0.00640891,\n",
       "          0.00607317, -0.07162586,  0.06597171, -0.04371367, -0.01217567,\n",
       "         -0.0409101 , -0.04954876, -0.00799605,  0.03387865, -0.06950712,\n",
       "         -0.02917272, -0.00704515, -0.03183074,  0.0656521 ,  0.05519844]])"
      ]
     },
     "execution_count": 26,
     "metadata": {},
     "output_type": "execute_result"
    }
   ],
   "source": [
    "epsilon[0]"
   ]
  },
  {
   "cell_type": "code",
   "execution_count": 27,
   "metadata": {},
   "outputs": [],
   "source": [
    "#calculate covariance matrix for epsilon\n",
    "# cov_matrix_epsilon = np.zeros((4,4))\n",
    "# cov_matrix_epsilon[0][0] = epsilon[0].var()\n",
    "# cov_matrix_epsilon[0][1] = np.cov(epsilon)\n",
    "# # cov_matrix_epsilon[1][0] = epsilon[0].cov(epsilon[1])\n",
    "# cov_matrix_epsilon[1][1] = epsilon[1].var()"
   ]
  },
  {
   "cell_type": "code",
   "execution_count": 32,
   "metadata": {},
   "outputs": [
    {
     "name": "stdout",
     "output_type": "stream",
     "text": [
      "Covariance Matrix epsion:\n",
      "[[ 4.20398520e-03 -1.97881714e-06]\n",
      " [-1.97881714e-06  5.10019917e-03]]\n"
     ]
    }
   ],
   "source": [
    "covariance_matrix_epsilon = np.cov(epsilon)\n",
    "print('Covariance Matrix epsion:')\n",
    "print(covariance_matrix_epsilon)"
   ]
  },
  {
   "cell_type": "code",
   "execution_count": 37,
   "metadata": {},
   "outputs": [],
   "source": [
    "r_m = df['mkt_rf'].values + r_f"
   ]
  },
  {
   "cell_type": "code",
   "execution_count": 43,
   "metadata": {},
   "outputs": [],
   "source": [
    "from matplotlib import pyplot as plt "
   ]
  },
  {
   "cell_type": "code",
   "execution_count": 65,
   "metadata": {},
   "outputs": [
    {
     "data": {
      "image/png": "[encoded data removed]",
      "text/plain": [
       "<Figure size 1080x720 with 1 Axes>"
      ]
     },
     "metadata": {
      "needs_background": "light"
     },
     "output_type": "display_data"
    },
    {
     "name": "stdout",
     "output_type": "stream",
     "text": [
      "Correlation Matrix:\n",
      "[[1.        0.7471078]\n",
      " [0.7471078 1.       ]]\n"
     ]
    }
   ],
   "source": [
    "plt.figure(figsize=(15,10))\n",
    "plt.scatter(np.asarray(Y[0]), r_m)\n",
    "plt.xlabel('Y_1')\n",
    "plt.ylabel('r_M')\n",
    "plt.show()\n",
    "corr = np.corrcoef(np.asarray(Y[0]), r_m)\n",
    "print('Correlation Matrix:')\n",
    "print(corr)"
   ]
  },
  {
   "cell_type": "code",
   "execution_count": 70,
   "metadata": {},
   "outputs": [
    {
     "data": {
      "text/plain": [
       "array([[ 1.        , -0.00104609],\n",
       "       [-0.00104609,  1.        ]])"
      ]
     },
     "execution_count": 70,
     "metadata": {},
     "output_type": "execute_result"
    }
   ],
   "source": [
    "np.corrcoef(np.asarray(Y[0]), Y[2])"
   ]
  },
  {
   "cell_type": "code",
   "execution_count": null,
   "metadata": {},
   "outputs": [],
   "source": []
  }
 ],
 "metadata": {
  "interpreter": {
   "hash": "b0fa6594d8f4cbf19f97940f81e996739fb7646882a419484c72d19e05852a7e"
  },
  "kernelspec": {
   "display_name": "Python 3.10.8 64-bit",
   "name": "python3"
  },
  "language_info": {
   "codemirror_mode": {
    "name": "ipython",
    "version": 3
   },
   "file_extension": ".py",
   "mimetype": "text/x-python",
   "name": "python",
   "nbconvert_exporter": "python",
   "pygments_lexer": "ipython3",
   "version": "3.10.8"
  },
  "orig_nbformat": 4,
  "vscode": {
   "interpreter": {
    "hash": "aee8b7b246df8f9039afb4144a1f6fd8d2ca17a180786b69acc140d282b71a49"
   }
  }
 },
 "nbformat": 4,
 "nbformat_minor": 2
}
